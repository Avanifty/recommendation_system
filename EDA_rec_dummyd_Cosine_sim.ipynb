{
  "nbformat": 4,
  "nbformat_minor": 0,
  "metadata": {
    "colab": {
      "private_outputs": true,
      "provenance": []
    },
    "kernelspec": {
      "name": "python3",
      "display_name": "Python 3"
    },
    "language_info": {
      "name": "python"
    }
  },
  "cells": [
    {
      "cell_type": "markdown",
      "source": [
        "\n",
        "\n",
        "# Building Content-Based Recommendation System using Cosine Similarity.¶\n",
        "\n",
        "\n"
      ],
      "metadata": {
        "id": "6i_rZ8Pxuznn"
      }
    },
    {
      "cell_type": "code",
      "source": [
        "from google.colab import drive\n",
        "drive.mount('/content/drive')"
      ],
      "metadata": {
        "id": "mDO2e2TmggqS"
      },
      "execution_count": null,
      "outputs": []
    },
    {
      "cell_type": "code",
      "source": [
        "import numpy as np\n",
        "import pandas as pd"
      ],
      "metadata": {
        "id": "BCUYTqTxghkW"
      },
      "execution_count": null,
      "outputs": []
    },
    {
      "cell_type": "code",
      "source": [
        "df = pd.read_csv('/content/drive/MyDrive/X/data - data - data - data.csv')\n",
        "df.head(5)"
      ],
      "metadata": {
        "id": "hQq3Gf9ugzpK"
      },
      "execution_count": null,
      "outputs": []
    },
    {
      "cell_type": "code",
      "source": [
        "df"
      ],
      "metadata": {
        "id": "omuBIDQ_ed8z"
      },
      "execution_count": null,
      "outputs": []
    },
    {
      "cell_type": "code",
      "source": [
        "df.describe()"
      ],
      "metadata": {
        "id": "I4eeaLKWAzH0"
      },
      "execution_count": null,
      "outputs": []
    },
    {
      "cell_type": "code",
      "source": [
        "df.info()"
      ],
      "metadata": {
        "id": "oHIs3OHnA5Gc"
      },
      "execution_count": null,
      "outputs": []
    },
    {
      "cell_type": "code",
      "source": [
        "# types of column data\n",
        "df.dtypes"
      ],
      "metadata": {
        "id": "HXIawxTjtNEy"
      },
      "execution_count": null,
      "outputs": []
    },
    {
      "cell_type": "code",
      "source": [
        "df"
      ],
      "metadata": {
        "id": "vvvnrpkYZM9j"
      },
      "execution_count": null,
      "outputs": []
    },
    {
      "cell_type": "markdown",
      "source": [
        "# EDA"
      ],
      "metadata": {
        "id": "ea7Zjyl_C7aq"
      }
    },
    {
      "cell_type": "markdown",
      "source": [
        "**Likes vs Dislikes**"
      ],
      "metadata": {
        "id": "L-_6B5vuCnKa"
      }
    },
    {
      "cell_type": "code",
      "source": [
        "import altair as alt\n",
        "chart = alt.Chart(df).mark_bar().encode(x='Likes', y='Dislikes', color='Category')\n",
        "chart\n"
      ],
      "metadata": {
        "id": "kaLO8xgms7m6"
      },
      "execution_count": null,
      "outputs": []
    },
    {
      "cell_type": "markdown",
      "source": [
        "Product Tags\n"
      ],
      "metadata": {
        "id": "S836bBOiC4G1"
      }
    },
    {
      "source": [
        "import matplotlib.pyplot as plt\n",
        "df['Product Tags'].value_counts().head(10).plot(kind='barh')\n",
        "plt.xlabel('Frequency')\n",
        "_ = plt.ylabel('Product Tag')"
      ],
      "cell_type": "code",
      "execution_count": null,
      "outputs": [],
      "metadata": {
        "id": "i0SvSb5ase7r"
      }
    },
    {
      "cell_type": "markdown",
      "source": [
        "Count of Records Vs Watch Time"
      ],
      "metadata": {
        "id": "-BFQTWuZDFK9"
      }
    },
    {
      "cell_type": "code",
      "source": [
        "\n",
        "\n",
        "import altair as alt\n",
        "alt.Chart(df).mark_bar().encode(\n",
        "    x = alt.X('Watch Time (Seconds):Q', bin=alt.Bin(maxbins=20)),\n",
        "    y = 'count()',color='Watch Time (Seconds)'\n",
        ").properties(width=600)\n"
      ],
      "metadata": {
        "id": "WJHTUqY7p33a"
      },
      "execution_count": null,
      "outputs": []
    },
    {
      "cell_type": "code",
      "source": [
        "alt.Chart(df).mark_line().encode(\n",
        "    x = 'Watch Time (Seconds)',\n",
        "    y = 'count()'\n",
        ").properties(width=600)\n"
      ],
      "metadata": {
        "id": "TqECSZALquZD"
      },
      "execution_count": null,
      "outputs": []
    },
    {
      "cell_type": "markdown",
      "source": [
        "\n",
        "Categories based on Likes"
      ],
      "metadata": {
        "id": "LecnaxT7DlmP"
      }
    },
    {
      "cell_type": "code",
      "source": [
        "alt.Chart(df).mark_bar().encode(x='Category', y='Likes', color='Category').properties(height=400)\n"
      ],
      "metadata": {
        "id": "l7WDFkbEopy5"
      },
      "execution_count": null,
      "outputs": []
    },
    {
      "cell_type": "code",
      "source": [
        "# @title Likes, Dislikes, and Watch Time\n",
        "\n",
        "import matplotlib.pyplot as plt\n",
        "plt.scatter(df['Likes'], df['Dislikes'], c=df['Watch Time (Seconds)'], cmap='viridis')\n",
        "plt.xlabel('Likes')\n",
        "plt.ylabel('Dislikes')\n",
        "plt.title('Likes, Dislikes, and Watch Time')\n",
        "_ = plt.colorbar(label='Watch Time (Seconds)')"
      ],
      "metadata": {
        "id": "REymhbNrpImd"
      },
      "execution_count": null,
      "outputs": []
    },
    {
      "source": [
        "# @title Dislikes vs Watch Time (Seconds)\n",
        "\n",
        "from matplotlib import pyplot as plt\n",
        "df.plot(kind='scatter', x='Dislikes', y='Watch Time (Seconds)', s=32, alpha=.8)\n",
        "plt.gca().spines[['top', 'right',]].set_visible(False)"
      ],
      "cell_type": "code",
      "execution_count": null,
      "outputs": [],
      "metadata": {
        "id": "8hPOuAUtmHie"
      }
    },
    {
      "source": [
        "# @title Watch Time (Seconds)\n",
        "\n",
        "from matplotlib import pyplot as plt\n",
        "df['Watch Time (Seconds)'].plot(kind='line', figsize=(8, 4), title='Watch Time (Seconds)')\n",
        "plt.gca().spines[['top', 'right']].set_visible(False)"
      ],
      "cell_type": "code",
      "execution_count": null,
      "outputs": [],
      "metadata": {
        "id": "kecy_xtVl-v3"
      }
    },
    {
      "source": [
        "# @title Likes\n",
        "\n",
        "from matplotlib import pyplot as plt\n",
        "df['Likes'].plot(kind='hist', bins=20, title='Likes')\n",
        "plt.gca().spines[['top', 'right',]].set_visible(False)"
      ],
      "cell_type": "code",
      "execution_count": null,
      "outputs": [],
      "metadata": {
        "id": "RQQFsf7vlnAJ"
      }
    },
    {
      "cell_type": "code",
      "source": [
        "# prompt: Using dataframe df: Dislikes vs Watch Time (Seconds) different colors\n",
        "\n",
        "import altair as alt\n",
        "\n",
        "alt.Chart(df).mark_line().encode(\n",
        "    alt.X('Dislikes'),\n",
        "    alt.Y('Watch Time (Seconds)'),\n",
        "    color='Category'\n",
        ").interactive()\n"
      ],
      "metadata": {
        "id": "J2HM2rySwRqS"
      },
      "execution_count": null,
      "outputs": []
    },
    {
      "cell_type": "markdown",
      "source": [
        "Product Tags"
      ],
      "metadata": {
        "id": "DzN7ofGpD9b5"
      }
    },
    {
      "cell_type": "code",
      "source": [
        "from wordcloud import WordCloud\n",
        "\n",
        "# Extract product tags from the dataframe\n",
        "product_tags = \" \".join(df[\"Product Tags\"].tolist())\n",
        "\n",
        "# Generate wordcloud\n",
        "wordcloud = WordCloud(background_color=\"white\",width=800, height=400).generate(product_tags)\n",
        "\n",
        "# Display the wordcloud\n",
        "plt.figure(figsize=(10, 5))\n",
        "plt.imshow(wordcloud, interpolation=\"bilinear\")\n",
        "plt.axis(\"off\")\n",
        "plt.show()\n"
      ],
      "metadata": {
        "id": "sqAPvI9SyrHU"
      },
      "execution_count": null,
      "outputs": []
    },
    {
      "cell_type": "markdown",
      "source": [
        "Product Tags and title"
      ],
      "metadata": {
        "id": "mNS3Z-P3EDga"
      }
    },
    {
      "cell_type": "code",
      "source": [
        "import pandas as pd\n",
        "from wordcloud import WordCloud\n",
        "import matplotlib.pyplot as plt\n",
        "\n",
        "# Combine Product Tags and Title\n",
        "df['Combined'] = df['Product Tags'] + ' ' + df['Title']\n",
        "\n",
        "# Create a WordCloud object\n",
        "wc = WordCloud(background_color=\"white\", max_words=300, max_font_size=50)\n",
        "\n",
        "# Generate the word cloud\n",
        "wc.generate(df['Combined'].str.cat(sep=\" \"))\n",
        "\n",
        "# Display the generated image\n",
        "plt.imshow(wc, interpolation=\"bilinear\")\n",
        "plt.axis(\"off\")\n"
      ],
      "metadata": {
        "id": "lWRCnUVLzMtF"
      },
      "execution_count": null,
      "outputs": []
    },
    {
      "cell_type": "code",
      "source": [
        "import pandas as pd\n",
        "from wordcloud import WordCloud\n",
        "import matplotlib.pyplot as plt\n",
        "\n",
        "# Combine Product Tags and Title\n",
        "df['Combined'] = df['Product Tags'] + ' ' + df['Title'] + df['Product Tags']\n",
        "\n",
        "# Create a WordCloud object\n",
        "wc = WordCloud(background_color=\"white\", max_words=300, max_font_size=100)\n",
        "\n",
        "# Generate the word cloud\n",
        "wc.generate(df['Combined'].str.cat(sep=\" \"))\n",
        "\n",
        "# Display the generated image\n",
        "plt.imshow(wc, interpolation=\"bilinear\")\n",
        "plt.axis(\"off\")\n"
      ],
      "metadata": {
        "id": "NRxSAoqZ0NMZ"
      },
      "execution_count": null,
      "outputs": []
    },
    {
      "cell_type": "markdown",
      "source": [
        "Product tags, title, category"
      ],
      "metadata": {
        "id": "qdVVyRRZEL-k"
      }
    },
    {
      "cell_type": "code",
      "source": [
        "import pandas as pd\n",
        "from wordcloud import WordCloud\n",
        "import matplotlib.pyplot as plt\n",
        "\n",
        "# Combine Product Tags and Title\n",
        "df['Combined'] = df['Product Tags'] + ' ' + df['Title'] + df['Product Tags'] + ' '  + df['Category']\n",
        "\n",
        "# Create a WordCloud object\n",
        "wc = WordCloud(background_color=\"white\", max_words=100, max_font_size=50)\n",
        "\n",
        "# Generate the word cloud\n",
        "wc.generate(df['Combined'].str.cat(sep=\" \"))\n",
        "\n",
        "# Display the generated image\n",
        "plt.imshow(wc, interpolation=\"bilinear\")\n",
        "plt.axis(\"off\")"
      ],
      "metadata": {
        "id": "z2cbj37T09T6"
      },
      "execution_count": null,
      "outputs": []
    },
    {
      "cell_type": "code",
      "source": [
        "df['Combined'] = df['Title'] + ' ' + df['Category'] + ' ' + df['Product Tags']\n",
        "df['Combined'] = df['Combined'].str.lower()\n",
        "df['Combined'] = df['Combined'].str.replace('[^\\w\\s]', '')\n",
        "df['Combined'] = df['Combined'].str.strip()\n"
      ],
      "metadata": {
        "id": "4vDAsqwvBQ7w"
      },
      "execution_count": null,
      "outputs": []
    },
    {
      "cell_type": "code",
      "source": [
        "\n",
        "\n",
        "df['Product Tags'].value_counts().to_frame().reset_index().rename(columns={'index':'Product Tag', 'Product Tags':'Count'}).head(10)\n"
      ],
      "metadata": {
        "id": "NgJQdmGdxYlE"
      },
      "execution_count": null,
      "outputs": []
    },
    {
      "cell_type": "code",
      "source": [
        "df.head(5)"
      ],
      "metadata": {
        "id": "SMcLom8KEx3o"
      },
      "execution_count": null,
      "outputs": []
    },
    {
      "cell_type": "code",
      "source": [
        "# prompt: Using dataframe df: normalize all the data type including text and floats and objects\n",
        "\n",
        "import pandas as pd\n",
        "\n",
        "def normalize_dataframe(df):\n",
        "  \"\"\"\n",
        "  Normalizes all data types in a dataframe to string type.\n",
        "  \"\"\"\n",
        "  for column in df.columns:\n",
        "    df[column] = df[column].astype(str)\n",
        "  return df\n",
        "\n",
        "df = normalize_dataframe(df.copy())\n"
      ],
      "metadata": {
        "id": "dznOST9mlqDN"
      },
      "execution_count": null,
      "outputs": []
    },
    {
      "cell_type": "code",
      "source": [
        "df.head()"
      ],
      "metadata": {
        "id": "V5rTO6Ibl_96"
      },
      "execution_count": null,
      "outputs": []
    },
    {
      "cell_type": "code",
      "source": [
        "from typing import Dict, Text"
      ],
      "metadata": {
        "id": "OpJ7xCfgK6Jj"
      },
      "execution_count": null,
      "outputs": []
    },
    {
      "cell_type": "code",
      "source": [
        "def separate(text):\n",
        "    clean_text = []\n",
        "    for t in text.split(','):\n",
        "        cleaned = re.sub('\\(.*\\)', '', t) # Remove text inside parentheses\n",
        "        cleaned = cleaned.translate(str.maketrans('','', string.digits))\n",
        "        cleaned = cleaned.replace(' ', '')\n",
        "        cleaned = cleaned.translate(str.maketrans('','', string.punctuation)).lower()\n",
        "        clean_text.append(cleaned)\n",
        "    return ' '.join(clean_text)\n",
        "\n",
        "def remove_punc(text):\n",
        "    cleaned = text.translate(str.maketrans('','', string.punctuation)).lower()\n",
        "    clean_text = cleaned.translate(str.maketrans('','', string.digits))\n",
        "    return clean_text"
      ],
      "metadata": {
        "id": "xN8zaN7XKmfJ"
      },
      "execution_count": null,
      "outputs": []
    },
    {
      "cell_type": "code",
      "source": [
        "df"
      ],
      "metadata": {
        "id": "_L8YqRgCmoHz"
      },
      "execution_count": null,
      "outputs": []
    },
    {
      "cell_type": "code",
      "source": [
        "df['Video ID'] = df['Video ID'].astype('object')"
      ],
      "metadata": {
        "id": "6dvmE5LIm6ir"
      },
      "execution_count": null,
      "outputs": []
    },
    {
      "cell_type": "code",
      "source": [
        "# Convert the 'Video ID' column to object type\n",
        "df['Video ID'] = df['Video ID'].astype('object')\n",
        "\n",
        "# Remove the row with the problematic value\n",
        "df = df[df['Video ID'] != 'easy bread baking for beginners food baking, bread']\n",
        "\n",
        "# Convert the remaining columns to float type\n",
        "df = df.astype('string')"
      ],
      "metadata": {
        "id": "hzzy3SAwnGtW"
      },
      "execution_count": null,
      "outputs": []
    },
    {
      "cell_type": "code",
      "source": [
        "df"
      ],
      "metadata": {
        "id": "SJb6Se76m5p5"
      },
      "execution_count": null,
      "outputs": []
    },
    {
      "cell_type": "code",
      "source": [
        "import tensorflow as tf\n",
        "import tensorflow_hub as hub\n",
        "\n",
        "# Load the pre-trained BERT model\n",
        "module_url = \"https://tfhub.dev/google/universal-sentence-encoder/4\"\n",
        "model = hub.load(module_url)\n",
        "\n",
        "# Prepare the text data\n",
        "text = df['Combined'].tolist()\n",
        "\n",
        "# Encode the text\n",
        "embeddings = model(text)\n",
        "\n",
        "# Print the shape of the embeddings\n",
        "print(embeddings.shape)\n"
      ],
      "metadata": {
        "id": "THYLQfRWjMhm"
      },
      "execution_count": null,
      "outputs": []
    },
    {
      "cell_type": "code",
      "source": [
        "\n",
        "\n",
        "import pickle\n",
        "\n",
        "# Save the embeddings to a pickle file\n",
        "with open('embeddings.pkl', 'wb') as f:\n",
        "  pickle.dump(embeddings, f)\n"
      ],
      "metadata": {
        "id": "HtefUYoR6zNq"
      },
      "execution_count": null,
      "outputs": []
    },
    {
      "cell_type": "code",
      "source": [
        "null_df = df.isnull().sum()[df.isnull().sum() > 0].sort_values().to_frame().rename(columns={0: \"Total Missing values\"})\n",
        "null_df[\"% of Missing Values\"] = round(null_df[\"Total Missing values\"]/len(df)*100, 2)\n",
        "null_df[\"Feature Data Type\"] = df[null_df.index.tolist()].dtypes\n",
        "\n",
        "null_df"
      ],
      "metadata": {
        "id": "eZBxXU_jqJ5r"
      },
      "execution_count": null,
      "outputs": []
    },
    {
      "cell_type": "code",
      "source": [
        "\n",
        "\n",
        "# Extract features from the data\n",
        "features = df.drop(['Video ID', 'Title', 'Category', 'Product Tags', 'Combined'], axis=1)\n",
        "\n",
        "# Print the features\n",
        "print(features.head())\n"
      ],
      "metadata": {
        "id": "FhRPsdIr35Kg"
      },
      "execution_count": null,
      "outputs": []
    },
    {
      "cell_type": "code",
      "source": [
        "!pip install featuretools"
      ],
      "metadata": {
        "id": "6OOD0F9Q3E8K"
      },
      "execution_count": null,
      "outputs": []
    },
    {
      "cell_type": "code",
      "source": [
        "from sklearn.feature_extraction.text import TfidfVectorizer\n",
        "from sklearn.metrics.pairwise import cosine_similarity"
      ],
      "metadata": {
        "id": "RPt83oUW4k_Q"
      },
      "execution_count": null,
      "outputs": []
    },
    {
      "cell_type": "code",
      "source": [
        "!pip install --upgrade featuretools"
      ],
      "metadata": {
        "id": "PiANdGR256DV"
      },
      "execution_count": null,
      "outputs": []
    },
    {
      "cell_type": "code",
      "source": [
        "df"
      ],
      "metadata": {
        "id": "6gSlNqvArZnZ"
      },
      "execution_count": null,
      "outputs": []
    },
    {
      "cell_type": "code",
      "source": [
        "df['Combined'] = df['Combined'].apply(lambda x: x.replace('[', '').replace(']', '').replace(\"'\", '').split(', '))\n"
      ],
      "metadata": {
        "id": "3-GBmuLgsg3x"
      },
      "execution_count": null,
      "outputs": []
    },
    {
      "cell_type": "code",
      "source": [
        "vectorizer = TfidfVectorizer()\n",
        "tfid_vectorizer = vectorizer.fit_transform(df['Combined'].apply(lambda x: ', '.join(x)))"
      ],
      "metadata": {
        "id": "vbLIbZvJrDse"
      },
      "execution_count": null,
      "outputs": []
    },
    {
      "cell_type": "code",
      "source": [
        "user_input = ['Artificial Intelligence', 'Desk', 'Workouts']  # Replace with any ingredeints\n",
        "user_input_vector = vectorizer.transform([', '.join(user_input)])\n",
        "\n",
        "cosine_similarities = cosine_similarity(tfid_vectorizer, user_input_vector).flatten()\n",
        "\n",
        "top_5_indices = cosine_similarities.argsort()[-5:][::-1]\n",
        "\n",
        "recommended_videos = df.iloc[top_5_indices]\n",
        "\n",
        "recommended_titles = recommended_videos['Title']\n",
        "print(recommended_titles)"
      ],
      "metadata": {
        "id": "fcqpEOQ-sgJb"
      },
      "execution_count": null,
      "outputs": []
    },
    {
      "cell_type": "markdown",
      "source": [],
      "metadata": {
        "id": "Bdz4ZnRZuudH"
      }
    },
    {
      "cell_type": "code",
      "source": [
        "\n",
        "\n",
        "print(\"Recommended videos:\")\n",
        "for title in recommended_titles:\n",
        "    print(f\"* {title}\")\n"
      ],
      "metadata": {
        "id": "iCcACxYbtulJ"
      },
      "execution_count": null,
      "outputs": []
    },
    {
      "cell_type": "code",
      "source": [
        "\n",
        "\n",
        "import pickle\n",
        "\n",
        "with open('cosine_similarities.pkl', 'wb') as f:\n",
        "  pickle.dump(cosine_similarities, f)\n"
      ],
      "metadata": {
        "id": "ggk8-F0HuIH8"
      },
      "execution_count": null,
      "outputs": []
    }
  ]
}